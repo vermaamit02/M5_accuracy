{
 "cells": [
  {
   "cell_type": "code",
   "execution_count": 1,
   "id": "ffffb383",
   "metadata": {},
   "outputs": [],
   "source": [
    "import pandas as pd\n",
    "import numpy as np\n",
    "import matplotlib.pyplot as plt\n",
    "import seaborn as sns\n",
    "import os\n",
    "import warnings\n",
    "import gc\n",
    "import joblib \n",
    "warnings.filterwarnings(\"ignore\")\n",
    "import joblib\n",
    "import pickle\n",
    "from tqdm import tqdm\n",
    "import random \n",
    "import lightgbm as lgb"
   ]
  },
  {
   "cell_type": "code",
   "execution_count": 2,
   "id": "692352dd",
   "metadata": {},
   "outputs": [],
   "source": [
    "sales = pd.read_csv('sales_train_evaluation.csv')\n",
    "sales.name = 'sales'\n",
    "calendar = pd.read_csv('calendar.csv')\n",
    "calendar.name = 'calendar'\n",
    "prices = pd.read_csv('sell_prices.csv')\n",
    "prices.name = 'prices'\n"
   ]
  },
  {
   "cell_type": "code",
   "execution_count": 3,
   "id": "5ab667e7",
   "metadata": {},
   "outputs": [
    {
     "name": "stdout",
     "output_type": "stream",
     "text": [
      "(30490, 1947)\n",
      "(1969, 14)\n",
      "(6841121, 4)\n"
     ]
    }
   ],
   "source": [
    "print(sales.shape)\n",
    "print(calendar.shape)\n",
    "print(prices.shape)"
   ]
  },
  {
   "cell_type": "code",
   "execution_count": 4,
   "id": "bc46783e",
   "metadata": {},
   "outputs": [
    {
     "data": {
      "text/html": [
       "<div>\n",
       "<style scoped>\n",
       "    .dataframe tbody tr th:only-of-type {\n",
       "        vertical-align: middle;\n",
       "    }\n",
       "\n",
       "    .dataframe tbody tr th {\n",
       "        vertical-align: top;\n",
       "    }\n",
       "\n",
       "    .dataframe thead th {\n",
       "        text-align: right;\n",
       "    }\n",
       "</style>\n",
       "<table border=\"1\" class=\"dataframe\">\n",
       "  <thead>\n",
       "    <tr style=\"text-align: right;\">\n",
       "      <th></th>\n",
       "      <th>id</th>\n",
       "      <th>item_id</th>\n",
       "      <th>dept_id</th>\n",
       "      <th>cat_id</th>\n",
       "      <th>store_id</th>\n",
       "      <th>state_id</th>\n",
       "      <th>d_1</th>\n",
       "      <th>d_2</th>\n",
       "      <th>d_3</th>\n",
       "      <th>d_4</th>\n",
       "      <th>...</th>\n",
       "      <th>d_1932</th>\n",
       "      <th>d_1933</th>\n",
       "      <th>d_1934</th>\n",
       "      <th>d_1935</th>\n",
       "      <th>d_1936</th>\n",
       "      <th>d_1937</th>\n",
       "      <th>d_1938</th>\n",
       "      <th>d_1939</th>\n",
       "      <th>d_1940</th>\n",
       "      <th>d_1941</th>\n",
       "    </tr>\n",
       "  </thead>\n",
       "  <tbody>\n",
       "    <tr>\n",
       "      <th>0</th>\n",
       "      <td>HOBBIES_1_001_CA_1_evaluation</td>\n",
       "      <td>HOBBIES_1_001</td>\n",
       "      <td>HOBBIES_1</td>\n",
       "      <td>HOBBIES</td>\n",
       "      <td>CA_1</td>\n",
       "      <td>CA</td>\n",
       "      <td>0</td>\n",
       "      <td>0</td>\n",
       "      <td>0</td>\n",
       "      <td>0</td>\n",
       "      <td>...</td>\n",
       "      <td>2</td>\n",
       "      <td>4</td>\n",
       "      <td>0</td>\n",
       "      <td>0</td>\n",
       "      <td>0</td>\n",
       "      <td>0</td>\n",
       "      <td>3</td>\n",
       "      <td>3</td>\n",
       "      <td>0</td>\n",
       "      <td>1</td>\n",
       "    </tr>\n",
       "    <tr>\n",
       "      <th>1</th>\n",
       "      <td>HOBBIES_1_002_CA_1_evaluation</td>\n",
       "      <td>HOBBIES_1_002</td>\n",
       "      <td>HOBBIES_1</td>\n",
       "      <td>HOBBIES</td>\n",
       "      <td>CA_1</td>\n",
       "      <td>CA</td>\n",
       "      <td>0</td>\n",
       "      <td>0</td>\n",
       "      <td>0</td>\n",
       "      <td>0</td>\n",
       "      <td>...</td>\n",
       "      <td>0</td>\n",
       "      <td>1</td>\n",
       "      <td>2</td>\n",
       "      <td>1</td>\n",
       "      <td>1</td>\n",
       "      <td>0</td>\n",
       "      <td>0</td>\n",
       "      <td>0</td>\n",
       "      <td>0</td>\n",
       "      <td>0</td>\n",
       "    </tr>\n",
       "    <tr>\n",
       "      <th>2</th>\n",
       "      <td>HOBBIES_1_003_CA_1_evaluation</td>\n",
       "      <td>HOBBIES_1_003</td>\n",
       "      <td>HOBBIES_1</td>\n",
       "      <td>HOBBIES</td>\n",
       "      <td>CA_1</td>\n",
       "      <td>CA</td>\n",
       "      <td>0</td>\n",
       "      <td>0</td>\n",
       "      <td>0</td>\n",
       "      <td>0</td>\n",
       "      <td>...</td>\n",
       "      <td>1</td>\n",
       "      <td>0</td>\n",
       "      <td>2</td>\n",
       "      <td>0</td>\n",
       "      <td>0</td>\n",
       "      <td>0</td>\n",
       "      <td>2</td>\n",
       "      <td>3</td>\n",
       "      <td>0</td>\n",
       "      <td>1</td>\n",
       "    </tr>\n",
       "    <tr>\n",
       "      <th>3</th>\n",
       "      <td>HOBBIES_1_004_CA_1_evaluation</td>\n",
       "      <td>HOBBIES_1_004</td>\n",
       "      <td>HOBBIES_1</td>\n",
       "      <td>HOBBIES</td>\n",
       "      <td>CA_1</td>\n",
       "      <td>CA</td>\n",
       "      <td>0</td>\n",
       "      <td>0</td>\n",
       "      <td>0</td>\n",
       "      <td>0</td>\n",
       "      <td>...</td>\n",
       "      <td>1</td>\n",
       "      <td>1</td>\n",
       "      <td>0</td>\n",
       "      <td>4</td>\n",
       "      <td>0</td>\n",
       "      <td>1</td>\n",
       "      <td>3</td>\n",
       "      <td>0</td>\n",
       "      <td>2</td>\n",
       "      <td>6</td>\n",
       "    </tr>\n",
       "    <tr>\n",
       "      <th>4</th>\n",
       "      <td>HOBBIES_1_005_CA_1_evaluation</td>\n",
       "      <td>HOBBIES_1_005</td>\n",
       "      <td>HOBBIES_1</td>\n",
       "      <td>HOBBIES</td>\n",
       "      <td>CA_1</td>\n",
       "      <td>CA</td>\n",
       "      <td>0</td>\n",
       "      <td>0</td>\n",
       "      <td>0</td>\n",
       "      <td>0</td>\n",
       "      <td>...</td>\n",
       "      <td>0</td>\n",
       "      <td>0</td>\n",
       "      <td>0</td>\n",
       "      <td>2</td>\n",
       "      <td>1</td>\n",
       "      <td>0</td>\n",
       "      <td>0</td>\n",
       "      <td>2</td>\n",
       "      <td>1</td>\n",
       "      <td>0</td>\n",
       "    </tr>\n",
       "  </tbody>\n",
       "</table>\n",
       "<p>5 rows × 1947 columns</p>\n",
       "</div>"
      ],
      "text/plain": [
       "                              id        item_id    dept_id   cat_id store_id  \\\n",
       "0  HOBBIES_1_001_CA_1_evaluation  HOBBIES_1_001  HOBBIES_1  HOBBIES     CA_1   \n",
       "1  HOBBIES_1_002_CA_1_evaluation  HOBBIES_1_002  HOBBIES_1  HOBBIES     CA_1   \n",
       "2  HOBBIES_1_003_CA_1_evaluation  HOBBIES_1_003  HOBBIES_1  HOBBIES     CA_1   \n",
       "3  HOBBIES_1_004_CA_1_evaluation  HOBBIES_1_004  HOBBIES_1  HOBBIES     CA_1   \n",
       "4  HOBBIES_1_005_CA_1_evaluation  HOBBIES_1_005  HOBBIES_1  HOBBIES     CA_1   \n",
       "\n",
       "  state_id  d_1  d_2  d_3  d_4  ...  d_1932  d_1933  d_1934  d_1935  d_1936  \\\n",
       "0       CA    0    0    0    0  ...       2       4       0       0       0   \n",
       "1       CA    0    0    0    0  ...       0       1       2       1       1   \n",
       "2       CA    0    0    0    0  ...       1       0       2       0       0   \n",
       "3       CA    0    0    0    0  ...       1       1       0       4       0   \n",
       "4       CA    0    0    0    0  ...       0       0       0       2       1   \n",
       "\n",
       "   d_1937  d_1938  d_1939  d_1940  d_1941  \n",
       "0       0       3       3       0       1  \n",
       "1       0       0       0       0       0  \n",
       "2       0       2       3       0       1  \n",
       "3       1       3       0       2       6  \n",
       "4       0       0       2       1       0  \n",
       "\n",
       "[5 rows x 1947 columns]"
      ]
     },
     "execution_count": 4,
     "metadata": {},
     "output_type": "execute_result"
    }
   ],
   "source": [
    "sales.head()"
   ]
  },
  {
   "cell_type": "code",
   "execution_count": 24,
   "id": "84b38d66",
   "metadata": {},
   "outputs": [
    {
     "data": {
      "text/plain": [
       "0"
      ]
     },
     "execution_count": 24,
     "metadata": {},
     "output_type": "execute_result"
    }
   ],
   "source": [
    "sales.isna().sum().sum()"
   ]
  },
  {
   "cell_type": "code",
   "execution_count": null,
   "id": "6e2acbe4",
   "metadata": {},
   "outputs": [],
   "source": [
    "sales['cat_id'].unique()"
   ]
  },
  {
   "cell_type": "code",
   "execution_count": null,
   "id": "caa7359b",
   "metadata": {},
   "outputs": [],
   "source": [
    "sales['dept_id'].unique()"
   ]
  },
  {
   "cell_type": "code",
   "execution_count": null,
   "id": "8d776bd2",
   "metadata": {},
   "outputs": [],
   "source": [
    "sales['store_id'].unique()"
   ]
  },
  {
   "cell_type": "code",
   "execution_count": null,
   "id": "bd100385",
   "metadata": {},
   "outputs": [],
   "source": [
    "sales['store_id'].value_counts()"
   ]
  },
  {
   "cell_type": "code",
   "execution_count": null,
   "id": "7e320e53",
   "metadata": {},
   "outputs": [],
   "source": [
    "prices['item_id'].nunique()"
   ]
  },
  {
   "cell_type": "code",
   "execution_count": null,
   "id": "cdc8bab6",
   "metadata": {},
   "outputs": [],
   "source": [
    "#Add zero sales for the remaining days 1942-1969\n",
    "for d in range(1948,1970):\n",
    "    col = 'd_' + str(d)\n",
    "    sales[col] = 0\n",
    "    sales[col] = sales[col].astype(np.int16)\n",
    "sales.shape"
   ]
  },
  {
   "cell_type": "code",
   "execution_count": null,
   "id": "8b963246",
   "metadata": {},
   "outputs": [],
   "source": [
    "sales.columns"
   ]
  },
  {
   "cell_type": "code",
   "execution_count": null,
   "id": "7050bb7a",
   "metadata": {},
   "outputs": [],
   "source": [
    "calendar.head()"
   ]
  },
  {
   "cell_type": "code",
   "execution_count": null,
   "id": "94cecd10",
   "metadata": {},
   "outputs": [],
   "source": [
    "calendar.isna().sum().sum()"
   ]
  },
  {
   "cell_type": "code",
   "execution_count": null,
   "id": "f73da0da",
   "metadata": {},
   "outputs": [],
   "source": [
    "calendar['event_type_1'].fillna('No event1',inplace = True)"
   ]
  },
  {
   "cell_type": "code",
   "execution_count": null,
   "id": "d6e1d568",
   "metadata": {},
   "outputs": [],
   "source": [
    "calendar['event_type_2'].fillna('No event2',inplace = True)"
   ]
  },
  {
   "cell_type": "code",
   "execution_count": null,
   "id": "3f82383d",
   "metadata": {},
   "outputs": [],
   "source": [
    "calendar.tail()"
   ]
  },
  {
   "cell_type": "code",
   "execution_count": null,
   "id": "798727f0",
   "metadata": {},
   "outputs": [],
   "source": [
    "prices.head(10)"
   ]
  },
  {
   "cell_type": "code",
   "execution_count": null,
   "id": "7ed11a71",
   "metadata": {},
   "outputs": [],
   "source": [
    "prices.isna().sum().sum()"
   ]
  },
  {
   "cell_type": "code",
   "execution_count": 5,
   "id": "92ffb699",
   "metadata": {},
   "outputs": [],
   "source": [
    "def downcast(df):\n",
    "    cols = df.dtypes.index.tolist()\n",
    "    types = df.dtypes.values.tolist()\n",
    "    for i,t in enumerate(types):\n",
    "        if 'int' in str(t):\n",
    "            if df[cols[i]].min() > np.iinfo(np.int8).min and df[cols[i]].max() < np.iinfo(np.int8).max:\n",
    "                df[cols[i]] = df[cols[i]].astype(np.int8)\n",
    "            elif df[cols[i]].min() > np.iinfo(np.int16).min and df[cols[i]].max() < np.iinfo(np.int16).max:\n",
    "                df[cols[i]] = df[cols[i]].astype(np.int16)\n",
    "            elif df[cols[i]].min() > np.iinfo(np.int32).min and df[cols[i]].max() < np.iinfo(np.int32).max:\n",
    "                df[cols[i]] = df[cols[i]].astype(np.int32)\n",
    "            else:\n",
    "                df[cols[i]] = df[cols[i]].astype(np.int64)\n",
    "        elif 'float' in str(t):\n",
    "            if df[cols[i]].min() > np.finfo(np.float16).min and df[cols[i]].max() < np.finfo(np.float16).max:\n",
    "                df[cols[i]] = df[cols[i]].astype(np.float16)\n",
    "            elif df[cols[i]].min() > np.finfo(np.float32).min and df[cols[i]].max() < np.finfo(np.float32).max:\n",
    "                df[cols[i]] = df[cols[i]].astype(np.float32)\n",
    "            else:\n",
    "                df[cols[i]] = df[cols[i]].astype(np.float64)\n",
    "        elif t == np.object:\n",
    "            if cols[i] == 'date':\n",
    "                df[cols[i]] = pd.to_datetime(df[cols[i]], format='%Y-%m-%d')\n",
    "            else:\n",
    "                df[cols[i]] = df[cols[i]].astype('category')\n",
    "    return df  \n",
    "\n",
    "sales = downcast(sales)\n",
    "prices = downcast(prices)\n",
    "calendar = downcast(calendar)"
   ]
  },
  {
   "cell_type": "code",
   "execution_count": 27,
   "id": "35943147",
   "metadata": {},
   "outputs": [],
   "source": [
    "df = pd.melt(sales, id_vars=['id', 'item_id', 'dept_id', 'cat_id', 'store_id', 'state_id'], var_name='d', value_name='sold').dropna()"
   ]
  },
  {
   "cell_type": "code",
   "execution_count": 28,
   "id": "8cdf61dc",
   "metadata": {},
   "outputs": [
    {
     "data": {
      "text/plain": [
       "(59181090, 8)"
      ]
     },
     "execution_count": 28,
     "metadata": {},
     "output_type": "execute_result"
    }
   ],
   "source": [
    "df.shape"
   ]
  },
  {
   "cell_type": "code",
   "execution_count": 29,
   "id": "ca9685c2",
   "metadata": {},
   "outputs": [
    {
     "data": {
      "text/plain": [
       "Index(['id', 'item_id', 'dept_id', 'cat_id', 'store_id', 'state_id', 'd',\n",
       "       'sold'],\n",
       "      dtype='object')"
      ]
     },
     "execution_count": 29,
     "metadata": {},
     "output_type": "execute_result"
    }
   ],
   "source": [
    "df.columns"
   ]
  },
  {
   "cell_type": "code",
   "execution_count": 30,
   "id": "ac94fa5f",
   "metadata": {},
   "outputs": [
    {
     "data": {
      "text/html": [
       "<div>\n",
       "<style scoped>\n",
       "    .dataframe tbody tr th:only-of-type {\n",
       "        vertical-align: middle;\n",
       "    }\n",
       "\n",
       "    .dataframe tbody tr th {\n",
       "        vertical-align: top;\n",
       "    }\n",
       "\n",
       "    .dataframe thead th {\n",
       "        text-align: right;\n",
       "    }\n",
       "</style>\n",
       "<table border=\"1\" class=\"dataframe\">\n",
       "  <thead>\n",
       "    <tr style=\"text-align: right;\">\n",
       "      <th></th>\n",
       "      <th>id</th>\n",
       "      <th>item_id</th>\n",
       "      <th>dept_id</th>\n",
       "      <th>cat_id</th>\n",
       "      <th>store_id</th>\n",
       "      <th>state_id</th>\n",
       "      <th>d</th>\n",
       "      <th>sold</th>\n",
       "    </tr>\n",
       "  </thead>\n",
       "  <tbody>\n",
       "    <tr>\n",
       "      <th>0</th>\n",
       "      <td>HOBBIES_1_001_CA_1_evaluation</td>\n",
       "      <td>HOBBIES_1_001</td>\n",
       "      <td>HOBBIES_1</td>\n",
       "      <td>HOBBIES</td>\n",
       "      <td>CA_1</td>\n",
       "      <td>CA</td>\n",
       "      <td>d_1</td>\n",
       "      <td>0</td>\n",
       "    </tr>\n",
       "    <tr>\n",
       "      <th>1</th>\n",
       "      <td>HOBBIES_1_002_CA_1_evaluation</td>\n",
       "      <td>HOBBIES_1_002</td>\n",
       "      <td>HOBBIES_1</td>\n",
       "      <td>HOBBIES</td>\n",
       "      <td>CA_1</td>\n",
       "      <td>CA</td>\n",
       "      <td>d_1</td>\n",
       "      <td>0</td>\n",
       "    </tr>\n",
       "    <tr>\n",
       "      <th>2</th>\n",
       "      <td>HOBBIES_1_003_CA_1_evaluation</td>\n",
       "      <td>HOBBIES_1_003</td>\n",
       "      <td>HOBBIES_1</td>\n",
       "      <td>HOBBIES</td>\n",
       "      <td>CA_1</td>\n",
       "      <td>CA</td>\n",
       "      <td>d_1</td>\n",
       "      <td>0</td>\n",
       "    </tr>\n",
       "    <tr>\n",
       "      <th>3</th>\n",
       "      <td>HOBBIES_1_004_CA_1_evaluation</td>\n",
       "      <td>HOBBIES_1_004</td>\n",
       "      <td>HOBBIES_1</td>\n",
       "      <td>HOBBIES</td>\n",
       "      <td>CA_1</td>\n",
       "      <td>CA</td>\n",
       "      <td>d_1</td>\n",
       "      <td>0</td>\n",
       "    </tr>\n",
       "    <tr>\n",
       "      <th>4</th>\n",
       "      <td>HOBBIES_1_005_CA_1_evaluation</td>\n",
       "      <td>HOBBIES_1_005</td>\n",
       "      <td>HOBBIES_1</td>\n",
       "      <td>HOBBIES</td>\n",
       "      <td>CA_1</td>\n",
       "      <td>CA</td>\n",
       "      <td>d_1</td>\n",
       "      <td>0</td>\n",
       "    </tr>\n",
       "  </tbody>\n",
       "</table>\n",
       "</div>"
      ],
      "text/plain": [
       "                              id        item_id    dept_id   cat_id store_id  \\\n",
       "0  HOBBIES_1_001_CA_1_evaluation  HOBBIES_1_001  HOBBIES_1  HOBBIES     CA_1   \n",
       "1  HOBBIES_1_002_CA_1_evaluation  HOBBIES_1_002  HOBBIES_1  HOBBIES     CA_1   \n",
       "2  HOBBIES_1_003_CA_1_evaluation  HOBBIES_1_003  HOBBIES_1  HOBBIES     CA_1   \n",
       "3  HOBBIES_1_004_CA_1_evaluation  HOBBIES_1_004  HOBBIES_1  HOBBIES     CA_1   \n",
       "4  HOBBIES_1_005_CA_1_evaluation  HOBBIES_1_005  HOBBIES_1  HOBBIES     CA_1   \n",
       "\n",
       "  state_id    d  sold  \n",
       "0       CA  d_1     0  \n",
       "1       CA  d_1     0  \n",
       "2       CA  d_1     0  \n",
       "3       CA  d_1     0  \n",
       "4       CA  d_1     0  "
      ]
     },
     "execution_count": 30,
     "metadata": {},
     "output_type": "execute_result"
    }
   ],
   "source": [
    "df.head()"
   ]
  },
  {
   "cell_type": "code",
   "execution_count": 31,
   "id": "1917eb43",
   "metadata": {},
   "outputs": [],
   "source": [
    "df = pd.merge(df, calendar, on='d', how='left')\n",
    "df = pd.merge(df, prices, on=['store_id','item_id','wm_yr_wk'], how='left') "
   ]
  },
  {
   "cell_type": "code",
   "execution_count": 32,
   "id": "84be10bd",
   "metadata": {},
   "outputs": [
    {
     "data": {
      "text/plain": [
       "(59181090, 22)"
      ]
     },
     "execution_count": 32,
     "metadata": {},
     "output_type": "execute_result"
    }
   ],
   "source": [
    "df.shape"
   ]
  },
  {
   "cell_type": "code",
   "execution_count": 33,
   "id": "236d8807",
   "metadata": {},
   "outputs": [],
   "source": [
    "df['date']=pd.to_datetime(df['date'], format='%Y-%m-%d')"
   ]
  },
  {
   "cell_type": "code",
   "execution_count": 34,
   "id": "3b93d6b9",
   "metadata": {},
   "outputs": [
    {
     "data": {
      "text/plain": [
       "(59181090, 22)"
      ]
     },
     "execution_count": 34,
     "metadata": {},
     "output_type": "execute_result"
    }
   ],
   "source": [
    "df.shape"
   ]
  },
  {
   "cell_type": "markdown",
   "id": "fd8f6525",
   "metadata": {},
   "source": [
    "As we have seen stats based model does not perform well on our data, we will do featture engineering and apply machine learning based Algoritham "
   ]
  },
  {
   "cell_type": "markdown",
   "id": "0c39ad72",
   "metadata": {},
   "source": [
    "Feature engineering based on Above EDA ."
   ]
  },
  {
   "cell_type": "raw",
   "id": "85f3e9b5",
   "metadata": {},
   "source": [
    "Encoding Categorical features: \n",
    "department, \n",
    "category,\n",
    "store, \n",
    "state,\n",
    "wday, \n",
    "event_type_1-2, \n",
    "Snap days(Already encoded)\n",
    "\n",
    "\n",
    "Calculate mean based feature :\n",
    "    \n",
    "    \n",
    "state\n",
    "store\n",
    "category\n",
    "department\n",
    "category Average \n",
    "department & item\n",
    "category & department\n",
    "state & store\n",
    "state, store and category\n",
    "store, category and department\n",
    "\n",
    "Add lag , rolling window, expanding window"
   ]
  },
  {
   "cell_type": "code",
   "execution_count": null,
   "id": "d027716a",
   "metadata": {},
   "outputs": [],
   "source": []
  },
  {
   "cell_type": "code",
   "execution_count": 35,
   "id": "c3884806",
   "metadata": {},
   "outputs": [],
   "source": [
    "from sklearn.preprocessing import LabelEncoder\n",
    "def label_encoding(train, feature):    \n",
    "    encoder = LabelEncoder()\n",
    "    train[feature] = encoder.fit_transform(df[feature])\n",
    "    \n",
    "    return train[feature]"
   ]
  },
  {
   "cell_type": "code",
   "execution_count": 36,
   "id": "0d90ad4f",
   "metadata": {},
   "outputs": [],
   "source": [
    "df['id']  = label_encoding(df,\"id\" )\n",
    "df['dept_id']  = label_encoding(df,\"dept_id\" )\n",
    "df['cat_id'] = label_encoding(df,\"cat_id\" )\n",
    "df['store_id']  = label_encoding(df,\"store_id\" )\n",
    "df['state_id']  = label_encoding(df,\"state_id\" )\n",
    "df['event_type_1']  = label_encoding(df,\"event_type_1\" )\n",
    "df['event_type_2']  = label_encoding(df,\"event_type_2\" )\n",
    "df['event_name_1']  = label_encoding(df,\"event_type_1\" )\n",
    "df['event_name_2']  = label_encoding(df,\"event_type_2\" )\n",
    "df['weekday']  = label_encoding(df,\"weekday\" )\n",
    "df['item_id']  = label_encoding(df,\"item_id\" )\n",
    "df['wm_yr_wk']  = label_encoding(df,\"wm_yr_wk\" )"
   ]
  },
  {
   "cell_type": "code",
   "execution_count": 37,
   "id": "1a729123",
   "metadata": {},
   "outputs": [
    {
     "name": "stdout",
     "output_type": "stream",
     "text": [
      "<class 'pandas.core.frame.DataFrame'>\n",
      "Int64Index: 59181090 entries, 0 to 59181089\n",
      "Data columns (total 22 columns):\n",
      " #   Column        Dtype         \n",
      "---  ------        -----         \n",
      " 0   id            int32         \n",
      " 1   item_id       int32         \n",
      " 2   dept_id       int32         \n",
      " 3   cat_id        int32         \n",
      " 4   store_id      int32         \n",
      " 5   state_id      int32         \n",
      " 6   d             object        \n",
      " 7   sold          int16         \n",
      " 8   date          datetime64[ns]\n",
      " 9   wm_yr_wk      int64         \n",
      " 10  weekday       int32         \n",
      " 11  wday          int8          \n",
      " 12  month         int8          \n",
      " 13  year          int16         \n",
      " 14  event_name_1  int64         \n",
      " 15  event_type_1  int64         \n",
      " 16  event_name_2  int64         \n",
      " 17  event_type_2  int64         \n",
      " 18  snap_CA       int8          \n",
      " 19  snap_TX       int8          \n",
      " 20  snap_WI       int8          \n",
      " 21  sell_price    float16       \n",
      "dtypes: datetime64[ns](1), float16(1), int16(2), int32(7), int64(5), int8(5), object(1)\n",
      "memory usage: 5.7+ GB\n"
     ]
    }
   ],
   "source": [
    "df.info()"
   ]
  },
  {
   "cell_type": "code",
   "execution_count": 38,
   "id": "29457d12",
   "metadata": {},
   "outputs": [],
   "source": [
    "df.d = df['d'].apply(lambda x: x.split('_')[1]).astype(np.int16)"
   ]
  },
  {
   "cell_type": "code",
   "execution_count": 39,
   "id": "6412a980",
   "metadata": {},
   "outputs": [
    {
     "name": "stdout",
     "output_type": "stream",
     "text": [
      "<class 'pandas.core.frame.DataFrame'>\n",
      "Int64Index: 59181090 entries, 0 to 59181089\n",
      "Data columns (total 22 columns):\n",
      " #   Column        Dtype         \n",
      "---  ------        -----         \n",
      " 0   id            int32         \n",
      " 1   item_id       int32         \n",
      " 2   dept_id       int32         \n",
      " 3   cat_id        int32         \n",
      " 4   store_id      int32         \n",
      " 5   state_id      int32         \n",
      " 6   d             int16         \n",
      " 7   sold          int16         \n",
      " 8   date          datetime64[ns]\n",
      " 9   wm_yr_wk      int64         \n",
      " 10  weekday       int32         \n",
      " 11  wday          int8          \n",
      " 12  month         int8          \n",
      " 13  year          int16         \n",
      " 14  event_name_1  int64         \n",
      " 15  event_type_1  int64         \n",
      " 16  event_name_2  int64         \n",
      " 17  event_type_2  int64         \n",
      " 18  snap_CA       int8          \n",
      " 19  snap_TX       int8          \n",
      " 20  snap_WI       int8          \n",
      " 21  sell_price    float16       \n",
      "dtypes: datetime64[ns](1), float16(1), int16(3), int32(7), int64(5), int8(5)\n",
      "memory usage: 5.3 GB\n"
     ]
    }
   ],
   "source": [
    "df.info()"
   ]
  },
  {
   "cell_type": "code",
   "execution_count": 40,
   "id": "174630bf",
   "metadata": {},
   "outputs": [],
   "source": [
    "shifting = 28 #shift period in order to account for 28 days to forecast\n",
    "df['lag_'+str(shifting)] = df.groupby('id')['sold'].shift(shifting).astype(np.float16)"
   ]
  },
  {
   "cell_type": "code",
   "execution_count": 41,
   "id": "79f169a2",
   "metadata": {},
   "outputs": [],
   "source": [
    "#Introduce lags\n",
    "lags = [7,14]\n",
    "for lag in lags:\n",
    "    df['sold_lag_'+str(lag)] = df.groupby(['id', 'item_id', 'dept_id', 'cat_id', 'store_id', 'state_id'],as_index=False)['lag_28'].shift(lag).astype(np.float16).fillna(0)"
   ]
  },
  {
   "cell_type": "code",
   "execution_count": 42,
   "id": "9d1018aa",
   "metadata": {},
   "outputs": [],
   "source": [
    "\n",
    "df['state_sold_avg'] = df.groupby('state_id')['lag_28'].transform('mean').astype(np.float16)\n",
    "df['dept_sold_avg'] = df.groupby('dept_id')['lag_28'].transform('mean').astype(np.float16)\n",
    "df['cat_sold_avg'] = df.groupby('cat_id')['lag_28'].transform('mean').astype(np.float16)\n",
    "df['cat_daily_avg'] = df.groupby(['weekday','cat_id'])['lag_28'].transform('mean').astype(np.float16)\n",
    "df['cat_monthly_avg'] = df.groupby(['month','cat_id'])['lag_28'].transform('mean').astype(np.float16)\n",
    "df['cat_dept_avg'] = df.groupby(['cat_id','dept_id'])['lag_28'].transform('mean').astype(np.float16)\n",
    "df['cat_dept_daily_sold_avg'] = df.groupby(['weekday','dept_id','cat_id'])['lag_28'].transform('mean').astype(np.float16)\n",
    "df['cat_dept_monthly_avg'] = df.groupby(['month','dept_id','cat_id'])['lag_28'].transform('mean').astype(np.float16)\n"
   ]
  },
  {
   "cell_type": "code",
   "execution_count": 43,
   "id": "b90e5d64",
   "metadata": {},
   "outputs": [],
   "source": [
    "df['rolling_sold_mean'] = df.groupby(['id', 'item_id', 'dept_id', 'cat_id', 'store_id', 'state_id'])['lag_28'].transform(lambda x: x.rolling(window=7).mean()).astype(np.float16).fillna(0)"
   ]
  },
  {
   "cell_type": "code",
   "execution_count": 44,
   "id": "c46dec83",
   "metadata": {},
   "outputs": [],
   "source": [
    "df['expanding_sold_mean'] = df.groupby(['id', 'item_id', 'dept_id', 'cat_id', 'store_id', 'state_id'])['lag_28'].transform(lambda x: x.expanding(2).mean()).astype(np.float16).fillna(0)"
   ]
  },
  {
   "cell_type": "code",
   "execution_count": 45,
   "id": "01e8f998",
   "metadata": {},
   "outputs": [],
   "source": [
    "df['daily_avg_sold'] = df.groupby(['id', 'item_id', 'dept_id', 'cat_id', 'store_id', 'state_id','d'])['lag_28'].transform('mean').astype(np.float16)\n",
    "df['avg_sold'] = df.groupby(['id', 'item_id', 'dept_id', 'cat_id', 'store_id', 'state_id'])['lag_28'].transform('mean').astype(np.float16)\n",
    "df['selling_trend'] = (df['daily_avg_sold'] - df['avg_sold']).astype(np.float16)\n",
    "df.drop(['daily_avg_sold','avg_sold'],axis=1,inplace=True)"
   ]
  },
  {
   "cell_type": "code",
   "execution_count": 46,
   "id": "ac220365",
   "metadata": {},
   "outputs": [],
   "source": [
    "df['sell_price'] = df['sell_price'].interpolate(method='linear', inplace=True)\n",
    "\n",
    "#we left with 7 missing values after filling with interpolate, so fill with 0\n",
    "df['sell_price'] = df['sell_price'].fillna(0) "
   ]
  },
  {
   "cell_type": "code",
   "execution_count": 47,
   "id": "b4815479",
   "metadata": {},
   "outputs": [],
   "source": [
    "for day in range(1942,1970):\n",
    "  sales['d_' + str(day)] = 0\n",
    "  sales['d_' + str(day)] = sales['d_' + str(day)].astype(np.int16)"
   ]
  },
  {
   "cell_type": "code",
   "execution_count": 48,
   "id": "3b6bb9b7",
   "metadata": {},
   "outputs": [],
   "source": [
    "df.to_pickle('data_lag.pkl')\n",
    "del df\n",
    "gc.collect();\n"
   ]
  },
  {
   "cell_type": "code",
   "execution_count": 6,
   "id": "2cc0b12c",
   "metadata": {},
   "outputs": [],
   "source": [
    "df = pd.read_pickle('data.pkl')\n"
   ]
  },
  {
   "cell_type": "code",
   "execution_count": 7,
   "id": "9412f00a",
   "metadata": {},
   "outputs": [],
   "source": [
    "df.drop(['date','wday'],axis=1,inplace=True)"
   ]
  },
  {
   "cell_type": "code",
   "execution_count": 8,
   "id": "b2c030d3",
   "metadata": {},
   "outputs": [],
   "source": [
    "X_train = df[df[\"d\"] < 1914].drop(\"sold\", axis=1)\n",
    "X_val =  df[(df['d']>=1914) & (df['d']<=1941)].drop('sold',axis=1)\n",
    "X_test = df[df[\"d\"] >= 1942].drop(\"sold\", axis=1)\n",
    "\n",
    "y_train = df[df[\"d\"] < 1914][\"sold\"]\n",
    "y_val = df[(df['d']>=1914) & (df['d']<=1941)][\"sold\"]"
   ]
  },
  {
   "cell_type": "code",
   "execution_count": 9,
   "id": "a0320d51",
   "metadata": {},
   "outputs": [
    {
     "name": "stdout",
     "output_type": "stream",
     "text": [
      "<class 'pandas.core.frame.DataFrame'>\n",
      "Int64Index: 59181090 entries, 0 to 59181089\n",
      "Data columns (total 34 columns):\n",
      " #   Column                   Dtype  \n",
      "---  ------                   -----  \n",
      " 0   id                       int32  \n",
      " 1   item_id                  int32  \n",
      " 2   dept_id                  int32  \n",
      " 3   cat_id                   int32  \n",
      " 4   store_id                 int32  \n",
      " 5   state_id                 int32  \n",
      " 6   d                        int16  \n",
      " 7   sold                     int16  \n",
      " 8   wm_yr_wk                 int64  \n",
      " 9   weekday                  int32  \n",
      " 10  month                    int8   \n",
      " 11  year                     int16  \n",
      " 12  event_name_1             int64  \n",
      " 13  event_type_1             int64  \n",
      " 14  event_name_2             int64  \n",
      " 15  event_type_2             int64  \n",
      " 16  snap_CA                  int8   \n",
      " 17  snap_TX                  int8   \n",
      " 18  snap_WI                  int8   \n",
      " 19  sell_price               int64  \n",
      " 20  lag_28                   float16\n",
      " 21  sold_lag_7               float16\n",
      " 22  sold_lag_14              float16\n",
      " 23  state_sold_avg           float16\n",
      " 24  dept_sold_avg            float16\n",
      " 25  cat_sold_avg             float16\n",
      " 26  cat_daily_avg            float16\n",
      " 27  cat_monthly_avg          float16\n",
      " 28  cat_dept_avg             float16\n",
      " 29  cat_dept_daily_sold_avg  float16\n",
      " 30  cat_dept_monthly_avg     float16\n",
      " 31  rolling_sold_mean        float16\n",
      " 32  expanding_sold_mean      float16\n",
      " 33  selling_trend            float16\n",
      "dtypes: float16(14), int16(3), int32(7), int64(6), int8(4)\n",
      "memory usage: 6.7 GB\n"
     ]
    }
   ],
   "source": [
    "df.info()"
   ]
  },
  {
   "cell_type": "code",
   "execution_count": 10,
   "id": "635407ed",
   "metadata": {},
   "outputs": [
    {
     "name": "stdout",
     "output_type": "stream",
     "text": [
      "<class 'pandas.core.frame.DataFrame'>\n",
      "Int64Index: 58327370 entries, 0 to 58327369\n",
      "Data columns (total 33 columns):\n",
      " #   Column                   Dtype  \n",
      "---  ------                   -----  \n",
      " 0   id                       int32  \n",
      " 1   item_id                  int32  \n",
      " 2   dept_id                  int32  \n",
      " 3   cat_id                   int32  \n",
      " 4   store_id                 int32  \n",
      " 5   state_id                 int32  \n",
      " 6   d                        int16  \n",
      " 7   wm_yr_wk                 int64  \n",
      " 8   weekday                  int32  \n",
      " 9   month                    int8   \n",
      " 10  year                     int16  \n",
      " 11  event_name_1             int64  \n",
      " 12  event_type_1             int64  \n",
      " 13  event_name_2             int64  \n",
      " 14  event_type_2             int64  \n",
      " 15  snap_CA                  int8   \n",
      " 16  snap_TX                  int8   \n",
      " 17  snap_WI                  int8   \n",
      " 18  sell_price               int64  \n",
      " 19  lag_28                   float16\n",
      " 20  sold_lag_7               float16\n",
      " 21  sold_lag_14              float16\n",
      " 22  state_sold_avg           float16\n",
      " 23  dept_sold_avg            float16\n",
      " 24  cat_sold_avg             float16\n",
      " 25  cat_daily_avg            float16\n",
      " 26  cat_monthly_avg          float16\n",
      " 27  cat_dept_avg             float16\n",
      " 28  cat_dept_daily_sold_avg  float16\n",
      " 29  cat_dept_monthly_avg     float16\n",
      " 30  rolling_sold_mean        float16\n",
      " 31  expanding_sold_mean      float16\n",
      " 32  selling_trend            float16\n",
      "dtypes: float16(14), int16(2), int32(7), int64(6), int8(4)\n",
      "memory usage: 6.5 GB\n"
     ]
    }
   ],
   "source": [
    "X_train.info()"
   ]
  },
  {
   "cell_type": "code",
   "execution_count": 11,
   "id": "808bd2ec",
   "metadata": {},
   "outputs": [
    {
     "data": {
      "text/plain": [
       "(59181090, 34)"
      ]
     },
     "execution_count": 11,
     "metadata": {},
     "output_type": "execute_result"
    }
   ],
   "source": [
    "df.shape"
   ]
  },
  {
   "cell_type": "code",
   "execution_count": null,
   "id": "7c5f0c36",
   "metadata": {},
   "outputs": [],
   "source": [
    "df.head()"
   ]
  },
  {
   "cell_type": "code",
   "execution_count": 11,
   "id": "c79a4962",
   "metadata": {},
   "outputs": [
    {
     "data": {
      "text/plain": [
       "(58327370, 33)"
      ]
     },
     "execution_count": 11,
     "metadata": {},
     "output_type": "execute_result"
    }
   ],
   "source": [
    "X_train.shape"
   ]
  },
  {
   "cell_type": "code",
   "execution_count": null,
   "id": "d0b45bc0",
   "metadata": {},
   "outputs": [],
   "source": [
    "X_train.head()"
   ]
  },
  {
   "cell_type": "code",
   "execution_count": 12,
   "id": "ace9d22c",
   "metadata": {},
   "outputs": [],
   "source": [
    "prices[\"id\"] = prices[\"item_id\"].astype(str) + \"_\" + prices[\"store_id\"].astype(str) + \"_evaluation\"\n",
    "calendar[\"d\"] = calendar[\"d\"].apply(lambda a: int(a.split(\"_\")[1]))"
   ]
  },
  {
   "cell_type": "code",
   "execution_count": null,
   "id": "35130022",
   "metadata": {},
   "outputs": [],
   "source": []
  },
  {
   "cell_type": "code",
   "execution_count": 13,
   "id": "d7cc98af",
   "metadata": {},
   "outputs": [
    {
     "name": "stderr",
     "output_type": "stream",
     "text": [
      "100%|██████████████████████████████████████████████████████████████████████████████████| 28/28 [00:11<00:00,  2.39it/s]\n"
     ]
    }
   ],
   "source": [
    "#https://www.kaggle.com/qcw171717/other-naive-forecasts-submission-score/notebook\n",
    "\n",
    "for day in tqdm(range(1886, 1914)):  \n",
    "    wk_id = list(calendar[calendar[\"d\"]==day][\"wm_yr_wk\"])[0]\n",
    "    wk_price = prices[prices[\"wm_yr_wk\"]==wk_id]\n",
    "    df_sales = sales.merge(wk_price[[\"sell_price\", \"id\"]], on=[\"id\"], how='inner')\n",
    "    df_sales[\"unit_sales_\" + str(day)] = df_sales[\"sell_price\"] * df_sales[\"d_\" + str(day)]\n",
    "    df_sales.drop(columns=[\"sell_price\"], inplace=True)"
   ]
  },
  {
   "cell_type": "code",
   "execution_count": 14,
   "id": "ab3874a8",
   "metadata": {},
   "outputs": [],
   "source": [
    "col = [a for a in df_sales.columns if a.find(\"unit_sales\")==0]\n",
    "df_sales[\"sales\"] = df_sales[col]\n",
    "df_sales[\"weight\"] = df_sales[\"sales\"] / df_sales[\"sales\"].sum()\n",
    "df_sales.drop(columns=[\"sales\", col[0]], axis=1, inplace=True)\n",
    "df_sales[\"weight\"] /= 12"
   ]
  },
  {
   "cell_type": "code",
   "execution_count": 15,
   "id": "c34d222c",
   "metadata": {},
   "outputs": [],
   "source": [
    "aggregation_level = {2: [\"state_id\"], 3: [\"store_id\"], 4: [\"cat_id\"], 5: [\"dept_id\"], \n",
    "              6: [\"state_id\", \"cat_id\"], 7: [\"state_id\", \"dept_id\"], 8: [\"store_id\", \"cat_id\"], 9: [\"store_id\", \"dept_id\"],\n",
    "              10: [\"item_id\"], 11: [\"item_id\", \"state_id\"]}"
   ]
  },
  {
   "cell_type": "code",
   "execution_count": 16,
   "id": "fd6156f4",
   "metadata": {},
   "outputs": [],
   "source": [
    "#function to calculate rmsse \n",
    "\n",
    "h = 28\n",
    "n = 1913\n",
    "\n",
    "def RMSSE(ground_truth, forecast, train_series):\n",
    "    \n",
    "    num = ((ground_truth - forecast)**2).sum(axis=1)\n",
    "    den = 1/(n-1) * ((train_series[:, 1:] - train_series[:, :-1]) ** 2).sum(axis=1)\n",
    "    rmsse = (1/h * num/den) ** 0.5\n",
    "\n",
    "    return rmsse"
   ]
  },
  {
   "cell_type": "code",
   "execution_count": 17,
   "id": "6d8191ff",
   "metadata": {},
   "outputs": [],
   "source": [
    "def hyperparameter_tuning(X_train, y_train, model):\n",
    "\n",
    "    model.fit(X_train, y_train)\n",
    "\n",
    "    for d in range(1914, 1942):\n",
    "        df_sales['F_' + str(d)] = model.predict(X_val[X_val['d']==d])\n",
    "    \n",
    "    data = df_sales[[a for a in df_sales.columns if a.find(\"d_\") == 0 or a.find(\"F_\") == 0]]\n",
    "    data = data.sum()\n",
    "\n",
    "    aggregated_df = pd.DataFrame(data).transpose()    \n",
    "    aggregated_df[\"level\"] = 1\n",
    "    aggregated_df[\"weight\"] = 1/12    \n",
    "    columns = aggregated_df.columns  \n",
    "\n",
    "    for lev in aggregation_level:\n",
    "        df_t = df_sales.groupby(by=aggregation_level[lev]).sum().reset_index()\n",
    "        df_t[\"level\"] = lev\n",
    "        aggregated_df = aggregated_df.append(df_t[columns])     \n",
    "\n",
    "    train_columns = [a for a in df_sales.columns if a.find(\"d_\") == 0 and int(a.split('_')[1]) < 1914]\n",
    "    actual_value_columns = [a for a in df_sales.columns if a.find(\"d_\") == 0 and int(a.split('_')[1]) in range(1914, 1942)]\n",
    "    forecast_value_columns = [a for a in df_sales.columns if a.find(\"F_\") == 0]    \n",
    "\n",
    "    ground_truth_df = np.array(df_sales[actual_value_columns])\n",
    "    forecast_df = np.array(df_sales[forecast_value_columns])\n",
    "    train_series_df = np.array(df_sales[train_columns])\n",
    "\n",
    "    ground_truth_agg_df = np.array(aggregated_df[actual_value_columns])\n",
    "    forecast_agg_df = np.array(aggregated_df[forecast_value_columns])\n",
    "    train_series_agg_df = np.array(aggregated_df[train_columns])\n",
    "\n",
    "    df_sales[\"rmsse\"] = RMSSE(ground_truth_df, forecast_df, train_series_df)\n",
    "    aggregated_df[\"rmsse\"] = RMSSE(ground_truth_agg_df, forecast_agg_df, train_series_agg_df)\n",
    "\n",
    "    df_sales[\"wrmsse\"] = df_sales[\"weight\"] * df_sales[\"rmsse\"]\n",
    "    aggregated_df[\"wrmsse\"] = aggregated_df[\"weight\"] * aggregated_df[\"rmsse\"]\n",
    "\n",
    "    print(df_sales[\"wrmsse\"].sum() + aggregated_df[\"wrmsse\"].sum())\n",
    "    \n",
    "    return (df_sales[\"wrmsse\"].sum() + aggregated_df[\"wrmsse\"].sum())"
   ]
  },
  {
   "cell_type": "code",
   "execution_count": 18,
   "id": "b696d56c",
   "metadata": {},
   "outputs": [
    {
     "name": "stderr",
     "output_type": "stream",
     "text": [
      "\r",
      "  0%|                                                                                           | 0/15 [00:00<?, ?it/s]"
     ]
    },
    {
     "name": "stdout",
     "output_type": "stream",
     "text": [
      "0.057\n",
      "35\n",
      "95\n",
      "[LightGBM] [Warning] min_data_in_leaf is set=95, min_child_samples=20 will be ignored. Current value: min_data_in_leaf=95\n"
     ]
    },
    {
     "name": "stderr",
     "output_type": "stream",
     "text": [
      "\r",
      "  7%|█████▎                                                                          | 1/15 [08:43<2:02:11, 523.67s/it]"
     ]
    },
    {
     "name": "stdout",
     "output_type": "stream",
     "text": [
      "0.86319950510302\n",
      "0.034\n",
      "112\n",
      "87\n",
      "[LightGBM] [Warning] min_data_in_leaf is set=87, min_child_samples=20 will be ignored. Current value: min_data_in_leaf=87\n"
     ]
    },
    {
     "name": "stderr",
     "output_type": "stream",
     "text": [
      "\r",
      " 13%|██████████▋                                                                     | 2/15 [19:09<2:06:31, 583.98s/it]"
     ]
    },
    {
     "name": "stdout",
     "output_type": "stream",
     "text": [
      "0.8975298905815252\n",
      "0.029\n",
      "86\n",
      "84\n",
      "[LightGBM] [Warning] min_data_in_leaf is set=84, min_child_samples=20 will be ignored. Current value: min_data_in_leaf=84\n"
     ]
    },
    {
     "name": "stderr",
     "output_type": "stream",
     "text": [
      "\r",
      " 20%|████████████████                                                                | 3/15 [27:49<1:50:54, 554.50s/it]"
     ]
    },
    {
     "name": "stdout",
     "output_type": "stream",
     "text": [
      "0.9396364303311228\n",
      "0.029\n",
      "110\n",
      "107\n",
      "[LightGBM] [Warning] min_data_in_leaf is set=107, min_child_samples=20 will be ignored. Current value: min_data_in_leaf=107\n"
     ]
    },
    {
     "name": "stderr",
     "output_type": "stream",
     "text": [
      "\r",
      " 27%|█████████████████████▎                                                          | 4/15 [36:32<1:39:25, 542.30s/it]"
     ]
    },
    {
     "name": "stdout",
     "output_type": "stream",
     "text": [
      "0.934092591492102\n",
      "0.037\n",
      "119\n",
      "55\n",
      "[LightGBM] [Warning] min_data_in_leaf is set=55, min_child_samples=20 will be ignored. Current value: min_data_in_leaf=55\n"
     ]
    },
    {
     "name": "stderr",
     "output_type": "stream",
     "text": [
      "\r",
      " 33%|██████████████████████████▋                                                     | 5/15 [44:53<1:27:54, 527.43s/it]"
     ]
    },
    {
     "name": "stdout",
     "output_type": "stream",
     "text": [
      "0.8819931875373463\n",
      "0.042\n",
      "102\n",
      "148\n",
      "[LightGBM] [Warning] min_data_in_leaf is set=148, min_child_samples=20 will be ignored. Current value: min_data_in_leaf=148\n"
     ]
    },
    {
     "name": "stderr",
     "output_type": "stream",
     "text": [
      "\r",
      " 40%|████████████████████████████████                                                | 6/15 [52:53<1:16:41, 511.27s/it]"
     ]
    },
    {
     "name": "stdout",
     "output_type": "stream",
     "text": [
      "0.8541924371857251\n",
      "0.059\n",
      "40\n",
      "68\n",
      "[LightGBM] [Warning] min_data_in_leaf is set=68, min_child_samples=20 will be ignored. Current value: min_data_in_leaf=68\n"
     ]
    },
    {
     "name": "stderr",
     "output_type": "stream",
     "text": [
      "\r",
      " 47%|█████████████████████████████████████▎                                          | 7/15 [59:38<1:03:31, 476.48s/it]"
     ]
    },
    {
     "name": "stdout",
     "output_type": "stream",
     "text": [
      "0.8343452214695017\n",
      "0.074\n",
      "47\n",
      "88\n",
      "[LightGBM] [Warning] min_data_in_leaf is set=88, min_child_samples=20 will be ignored. Current value: min_data_in_leaf=88\n"
     ]
    },
    {
     "name": "stderr",
     "output_type": "stream",
     "text": [
      "\r",
      " 53%|██████████████████████████████████████████▋                                     | 8/15 [1:06:16<52:40, 451.54s/it]"
     ]
    },
    {
     "name": "stdout",
     "output_type": "stream",
     "text": [
      "0.785007926047836\n",
      "0.026\n",
      "34\n",
      "123\n",
      "[LightGBM] [Warning] min_data_in_leaf is set=123, min_child_samples=20 will be ignored. Current value: min_data_in_leaf=123\n"
     ]
    },
    {
     "name": "stderr",
     "output_type": "stream",
     "text": [
      "\r",
      " 60%|████████████████████████████████████████████████                                | 9/15 [1:13:31<44:38, 446.34s/it]"
     ]
    },
    {
     "name": "stdout",
     "output_type": "stream",
     "text": [
      "1.0133054355696496\n",
      "0.056\n",
      "62\n",
      "62\n",
      "[LightGBM] [Warning] min_data_in_leaf is set=62, min_child_samples=20 will be ignored. Current value: min_data_in_leaf=62\n"
     ]
    },
    {
     "name": "stderr",
     "output_type": "stream",
     "text": [
      "\r",
      " 67%|████████████████████████████████████████████████████▋                          | 10/15 [1:20:52<37:02, 444.51s/it]"
     ]
    },
    {
     "name": "stdout",
     "output_type": "stream",
     "text": [
      "0.8197801550762879\n",
      "0.067\n",
      "77\n",
      "103\n",
      "[LightGBM] [Warning] min_data_in_leaf is set=103, min_child_samples=20 will be ignored. Current value: min_data_in_leaf=103\n"
     ]
    },
    {
     "name": "stderr",
     "output_type": "stream",
     "text": [
      "\r",
      " 73%|█████████████████████████████████████████████████████████▉                     | 11/15 [1:28:07<29:27, 441.76s/it]"
     ]
    },
    {
     "name": "stdout",
     "output_type": "stream",
     "text": [
      "0.7787608500298726\n",
      "0.047\n",
      "86\n",
      "80\n",
      "[LightGBM] [Warning] min_data_in_leaf is set=80, min_child_samples=20 will be ignored. Current value: min_data_in_leaf=80\n"
     ]
    },
    {
     "name": "stderr",
     "output_type": "stream",
     "text": [
      "\r",
      " 80%|███████████████████████████████████████████████████████████████▏               | 12/15 [1:35:52<22:26, 448.67s/it]"
     ]
    },
    {
     "name": "stdout",
     "output_type": "stream",
     "text": [
      "0.8458755566743315\n",
      "0.069\n",
      "66\n",
      "96\n",
      "[LightGBM] [Warning] min_data_in_leaf is set=96, min_child_samples=20 will be ignored. Current value: min_data_in_leaf=96\n"
     ]
    },
    {
     "name": "stderr",
     "output_type": "stream",
     "text": [
      "\r",
      " 87%|████████████████████████████████████████████████████████████████████▍          | 13/15 [1:43:10<14:51, 445.59s/it]"
     ]
    },
    {
     "name": "stdout",
     "output_type": "stream",
     "text": [
      "0.7771485919327373\n",
      "0.038\n",
      "60\n",
      "108\n",
      "[LightGBM] [Warning] min_data_in_leaf is set=108, min_child_samples=20 will be ignored. Current value: min_data_in_leaf=108\n"
     ]
    },
    {
     "name": "stderr",
     "output_type": "stream",
     "text": [
      "\r",
      " 93%|█████████████████████████████████████████████████████████████████████████▋     | 14/15 [1:50:52<07:30, 450.61s/it]"
     ]
    },
    {
     "name": "stdout",
     "output_type": "stream",
     "text": [
      "0.8947554999771842\n",
      "0.032\n",
      "91\n",
      "141\n",
      "[LightGBM] [Warning] min_data_in_leaf is set=141, min_child_samples=20 will be ignored. Current value: min_data_in_leaf=141\n"
     ]
    },
    {
     "name": "stderr",
     "output_type": "stream",
     "text": [
      "100%|███████████████████████████████████████████████████████████████████████████████| 15/15 [1:59:25<00:00, 477.70s/it]"
     ]
    },
    {
     "name": "stdout",
     "output_type": "stream",
     "text": [
      "0.9134367571099689\n",
      "Wall time: 1h 59min 25s\n"
     ]
    },
    {
     "name": "stderr",
     "output_type": "stream",
     "text": [
      "\n"
     ]
    }
   ],
   "source": [
    "%%time\n",
    "\n",
    "wrmsse=[]\n",
    "lr=[]\n",
    "n_leaves=[]\n",
    "min_d_leaf=[]\n",
    "\n",
    "for _ in tqdm(range(15)):\n",
    "\n",
    "    learning_rate = random.randint(25, 75)/1000\n",
    "    num_leaves = random.randint(32, 128)\n",
    "    min_data_in_leaf = random.randint(50, 150)\n",
    "\n",
    "    print(learning_rate)\n",
    "    print(num_leaves)\n",
    "    print(min_data_in_leaf)\n",
    "    \n",
    "    model = lgb.LGBMRegressor(learning_rate= learning_rate,num_leaves=num_leaves,min_data_in_leaf=min_data_in_leaf)\n",
    "    \n",
    "    WRMSSE = hyperparameter_tuning(X_train, y_train, model)\n",
    "\n",
    "    wrmsse.append(WRMSSE)\n",
    "    lr.append(learning_rate)\n",
    "    n_leaves.append(num_leaves)\n",
    "    min_d_leaf.append(min_data_in_leaf)"
   ]
  },
  {
   "cell_type": "code",
   "execution_count": 19,
   "id": "76bb6ff6",
   "metadata": {},
   "outputs": [],
   "source": [
    "minpos = wrmsse.index(min(wrmsse))\n",
    "learning_rate = lr[minpos]\n",
    "num_leaves = n_leaves[minpos]\n",
    "min_data_in_leaf = min_d_leaf[minpos]"
   ]
  },
  {
   "cell_type": "code",
   "execution_count": 20,
   "id": "5f36f3c9",
   "metadata": {},
   "outputs": [
    {
     "name": "stdout",
     "output_type": "stream",
     "text": [
      "[LightGBM] [Warning] min_data_in_leaf is set=96, min_child_samples=20 will be ignored. Current value: min_data_in_leaf=96\n"
     ]
    },
    {
     "data": {
      "text/plain": [
       "LGBMRegressor(learning_rate=0.069, min_data_in_leaf=96, num_leaves=66)"
      ]
     },
     "execution_count": 20,
     "metadata": {},
     "output_type": "execute_result"
    }
   ],
   "source": [
    "#fit the model on best parameters\n",
    "\n",
    "m_lgb = lgb.LGBMRegressor( learning_rate=learning_rate ,\n",
    "                           num_leaves=num_leaves ,\n",
    "                           min_data_in_leaf=min_data_in_leaf)\n",
    "\n",
    "m_lgb.fit(X_train, y_train)"
   ]
  },
  {
   "cell_type": "code",
   "execution_count": 21,
   "id": "2b2cf5e7",
   "metadata": {},
   "outputs": [],
   "source": [
    "with open('model_lgb_2', 'wb') as file:\n",
    "        pickle.dump(m_lgb, file)"
   ]
  },
  {
   "cell_type": "code",
   "execution_count": 22,
   "id": "6b086011",
   "metadata": {},
   "outputs": [],
   "source": [
    "for d in range(1914, 1942):\n",
    "    df_sales['F_' + str(d)] = m_lgb.predict(X_val[X_val['d']==d])"
   ]
  },
  {
   "cell_type": "code",
   "execution_count": 23,
   "id": "899cc037",
   "metadata": {},
   "outputs": [],
   "source": [
    "def WRMSSE(df_sales):\n",
    "\n",
    "  aggregation_level = {2: [\"state_id\"], 3: [\"store_id\"], 4: [\"cat_id\"], 5: [\"dept_id\"], \n",
    "              6: [\"state_id\", \"cat_id\"], 7: [\"state_id\", \"dept_id\"], 8: [\"store_id\", \"cat_id\"], 9: [\"store_id\", \"dept_id\"],\n",
    "              10: [\"item_id\"], 11: [\"item_id\", \"state_id\"]}\n",
    "\n",
    "  data = df_sales[[a for a in df_sales.columns if a.find(\"d_\") == 0 or a.find(\"F_\") == 0]]\n",
    "  data = data.sum()\n",
    "\n",
    "  aggregated_df = pd.DataFrame(data).transpose()    \n",
    "  aggregated_df[\"level\"] = 1\n",
    "  aggregated_df[\"weight\"] = 1/12    \n",
    "  columns = aggregated_df.columns  \n",
    "\n",
    "  for lev in aggregation_level:\n",
    "      df_t = df_sales.groupby(by=aggregation_level[lev]).sum().reset_index()\n",
    "      df_t[\"level\"] = lev\n",
    "      aggregated_df = aggregated_df.append(df_t[columns])     \n",
    "\n",
    "  #print(df_sales.shape[0], aggregated_df.shape[0], df_sales.shape[0] + aggregated_df.shape[0])\n",
    "  #print(aggregated_df[\"weight\"].sum() + df_sales[\"weight\"].sum())    \n",
    "\n",
    "  train_columns = [a for a in df_sales.columns if a.find(\"d_\") == 0 and int(a.split('_')[1]) < 1914]\n",
    "  actual_value_columns = [a for a in df_sales.columns if a.find(\"d_\") == 0 and int(a.split('_')[1]) in range(1914, 1942)]\n",
    "  forecast_value_columns = [a for a in df_sales.columns if a.find(\"F_\") == 0]    \n",
    "\n",
    "\n",
    "  ground_truth_df = np.array(df_sales[actual_value_columns])\n",
    "  forecast_df = np.array(df_sales[forecast_value_columns])\n",
    "  train_series_df = np.array(df_sales[train_columns])\n",
    "\n",
    "  ground_truth_agg_df = np.array(aggregated_df[actual_value_columns])\n",
    "  forecast_agg_df = np.array(aggregated_df[forecast_value_columns])\n",
    "  train_series_agg_df = np.array(aggregated_df[train_columns])\n",
    "\n",
    "  df_sales[\"rmsse\"] = RMSSE(ground_truth_df, forecast_df, train_series_df)\n",
    "  aggregated_df[\"rmsse\"] = RMSSE(ground_truth_agg_df, forecast_agg_df, train_series_agg_df)\n",
    "\n",
    "  df_sales[\"wrmsse\"] = df_sales[\"weight\"] * df_sales[\"rmsse\"]\n",
    "  aggregated_df[\"wrmsse\"] = aggregated_df[\"weight\"] * aggregated_df[\"rmsse\"]\n",
    "\n",
    "  print(\"df\", df_sales[\"wrmsse\"].sum())\n",
    "  print(\"agg_df\",aggregated_df[\"wrmsse\"].sum())\n",
    "\n",
    "  WRMSSE = df_sales[\"wrmsse\"].sum() + aggregated_df[\"wrmsse\"].sum()\n",
    "  #print(WRMSSE)\n",
    "\n",
    "  return WRMSSE "
   ]
  },
  {
   "cell_type": "code",
   "execution_count": 24,
   "id": "86433000",
   "metadata": {},
   "outputs": [
    {
     "name": "stdout",
     "output_type": "stream",
     "text": [
      "df 0.08828533408389352\n",
      "agg_df 0.6888632578488438\n"
     ]
    },
    {
     "data": {
      "text/plain": [
       "0.7771485919327373"
      ]
     },
     "execution_count": 24,
     "metadata": {},
     "output_type": "execute_result"
    }
   ],
   "source": [
    "WRMSSE(df_sales)"
   ]
  },
  {
   "cell_type": "code",
   "execution_count": 25,
   "id": "e7662ebe",
   "metadata": {},
   "outputs": [],
   "source": [
    "with open(\"model_lgb_2\",'rb') as files:\n",
    "    lgb_model= pickle.load(files)"
   ]
  },
  {
   "cell_type": "code",
   "execution_count": 26,
   "id": "5168346b",
   "metadata": {},
   "outputs": [],
   "source": [
    "df_feature_importance = (\n",
    "    pd.DataFrame({\n",
    "        'feature': X_train.columns,\n",
    "        'importance': lgb_model.feature_importances_,\n",
    "    })\n",
    "    .sort_values('importance', ascending=False)\n",
    ")"
   ]
  },
  {
   "cell_type": "code",
   "execution_count": 27,
   "id": "bc441e79",
   "metadata": {},
   "outputs": [
    {
     "data": {
      "text/plain": [
       "<AxesSubplot:xlabel='importance', ylabel='feature'>"
      ]
     },
     "execution_count": 27,
     "metadata": {},
     "output_type": "execute_result"
    },
    {
     "data": {
      "image/png": "[encoded data removed]",
      "text/plain": [
       "<Figure size 432x288 with 1 Axes>"
      ]
     },
     "metadata": {
      "needs_background": "light"
     },
     "output_type": "display_data"
    }
   ],
   "source": [
    "sns.barplot(x=\"importance\", y=\"feature\",data=df_feature_importance)"
   ]
  },
  {
   "cell_type": "code",
   "execution_count": 29,
   "id": "4f1eb97f",
   "metadata": {},
   "outputs": [],
   "source": [
    "def final_func_1(X):\n",
    "    #here we are inserting the columns for the days d_1942 to d_1969 as nan for which we need to forecast sales\n",
    "    for day in range(1942,1970):\n",
    "       X['d_' + str(day)] = 0\n",
    "       X['d_' + str(day)] = sales['d_' + str(day)].astype(np.int16)\n",
    "    \n",
    "    #to transform the dataframe into vertical rows as each corresponds to each day sales of an item from a particular store\n",
    "    X_melt = pd.melt(X, id_vars=['id','item_id','dept_id','cat_id','store_id','state_id'],\n",
    "                       var_name='d',value_name='sales')\n",
    "    #creating a single dataframe\n",
    "    X_melt = X_melt.merge(calendar_df,  on='d', how='left')\n",
    "    X_melt = X_melt.merge(prices_df, on=['store_id','item_id','wm_yr_wk'], how='left')\n",
    "    \n",
    "    #pre processing missing values of prices by transforming with mean price of that id\n",
    "    X_melt['sell_price'].fillna(X_melt.groupby('id')['sell_price'].transform('mean'),inplace=True)\n",
    "       \n",
    "    def label_encoding(train, feature):    \n",
    "       encoder = LabelEncoder()\n",
    "       train[feature] = encoder.fit_transform(df[feature])\n",
    "       return train[feature]\n",
    "\n",
    "    shifting = 28 #shift period in order to account for 28 days to forecast\n",
    "    X_melt['lag_'+str(shifting)] = X_melt.groupby('id')['sold'].shift(shifting).astype(np.float16)\n",
    "    X_melt['dept_id']  = label_encoding(X_melt,\"dept_id\" )\n",
    "    X_melt['cat_id'] = label_encoding(X_melt,\"cat_id\" )\n",
    "    X_melt['store_id']  = label_encoding(X_melt,\"store_id\" )\n",
    "    X_melt['state_id']  = label_encoding(X_melt,\"state_id\" )\n",
    "    X_melt['event_type_1']  = label_encoding(X_melt,\"event_type_1\" )\n",
    "    X_melt['event_type_2']  = label_encoding(X_melt,\"event_type_2\" )\n",
    "    X_melt['event_name_1']  = label_encoding(X_melt,\"event_type_1\" )\n",
    "    X_melt['event_name_2']  = label_encoding(X_melt,\"event_type_2\" )\n",
    "    X_melt['weekday']  = label_encoding(X_melt,\"weekday\" )\n",
    "    X_melt['item_id']  = label_encoding(X_melt,\"item_id\" )\n",
    "    X_melt['wm_yr_wk']  = label_encoding(X_melt,\"wm_yr_wk\" )\n",
    "    #Introduce lags\n",
    "    lags = [7,14]\n",
    "    for lag in lags:\n",
    "       X_melt['sold_lag_'+str(lag)] = X_melt.groupby(['id', 'item_id', 'dept_id', 'cat_id', 'store_id', 'state_id'],as_index=False)['lag_28'].shift(lag).astype(np.float16).fillna(0)\n",
    "    X_melt['state_sold_avg'] = X_melt.groupby('state_id')['lag_28'].transform('mean').astype(np.float16)\n",
    "    X_melt['dept_sold_avg'] = X_melt.groupby('dept_id')['lag_28'].transform('mean').astype(np.float16)\n",
    "    X_melt['cat_sold_avg'] = X_melt.groupby('cat_id')['lag_28'].transform('mean').astype(np.float16)\n",
    "    X_melt['cat_daily_avg'] = X_melt.groupby(['weekday','cat_id'])['lag_28'].transform('mean').astype(np.float16)\n",
    "    X_melt['cat_monthly_avg'] = X_melt.groupby(['month','cat_id'])['lag_28'].transform('mean').astype(np.float16)\n",
    "    X_melt['cat_dept_avg'] = X_melt.groupby(['cat_id','dept_id'])['lag_28'].transform('mean').astype(np.float16)\n",
    "    X_melt['cat_dept_daily_sold_avg'] = X_melt.groupby(['weekday','dept_id','cat_id'])['lag_28'].transform('mean').astype(np.float16)\n",
    "    X_melt['cat_dept_monthly_avg'] = X_melt.groupby(['month','dept_id','cat_id'])['lag_28'].transform('mean').astype(np.float16)\n",
    "    \n",
    "\n",
    "\n",
    "\n",
    "    \n",
    "\n",
    "\n",
    "\n",
    "\n",
    "    \n",
    "    X_pre = X_melt.drop(['sales','date','weekday','wm_yr_wk'],axis=1)\n",
    "    predictions_df = pd.DataFrame()\n",
    "    model= joblib.load('model_lgb_1.pkl')\n",
    "    \n",
    "    predictions = model.predict(X_pre_pred.values)\n",
    "    #slicing the predictions such that to get each day predictions of all the products of test data\n",
    "    start = 0\n",
    "    t = int(X_pre.iloc[0]['d'])\n",
    "    while start < len(predictions):\n",
    "        end = start + 1\n",
    "        predictions_df['d_'+str(t)] = predictions[start:end]\n",
    "        start = end\n",
    "        t = t+1\n",
    "    predictions_df = pd.concat([X['id'],predictions_df],axis=1,sort=False)\n",
    "    predictions_df_val = predictions_df[['id']]\n",
    "    #validation predictions from days 1914-1941\n",
    "    for i in range(28):\n",
    "        predictions_df_val['F'+str(i+1)] = predictions_df['d_'+str(1914+i)]\n",
    "    predictions_df_val['id'] =  predictions_df_val['id'].apply(lambda x: x.replace('evaluation','validation'))\n",
    "    predictions_df_eval = predictions_df_val.copy()\n",
    "    #evaluation predictions from days 1942-1969\n",
    "    for i in range(28):\n",
    "        predictions_df_eval['F'+str(i+1)] = predictions_df['d_'+str(1942+i)]\n",
    "    predictions_df_eval[\"id\"] = predictions_df_eval[\"id\"].apply(lambda x: x.replace('validation','evaluation'))\n",
    "    final_predictions = predictions_df_val.append(predictions_df_eval).reset_index(drop=True)\n",
    "    return final_predictions\n"
   ]
  },
  {
   "cell_type": "code",
   "execution_count": null,
   "id": "9346f993",
   "metadata": {},
   "outputs": [],
   "source": []
  },
  {
   "cell_type": "code",
   "execution_count": null,
   "id": "9c5a73e4",
   "metadata": {},
   "outputs": [],
   "source": []
  }
 ],
 "metadata": {
  "kernelspec": {
   "display_name": "Python 3 (ipykernel)",
   "language": "python",
   "name": "python3"
  },
  "language_info": {
   "codemirror_mode": {
    "name": "ipython",
    "version": 3
   },
   "file_extension": ".py",
   "mimetype": "text/x-python",
   "name": "python",
   "nbconvert_exporter": "python",
   "pygments_lexer": "ipython3",
   "version": "3.9.7"
  }
 },
 "nbformat": 4,
 "nbformat_minor": 5
}
